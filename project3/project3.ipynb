{
 "cells": [
  {
   "cell_type": "code",
   "execution_count": 3,
   "metadata": {},
   "outputs": [
    {
     "ename": "ModuleNotFoundError",
     "evalue": "No module named 'plotnine'",
     "output_type": "error",
     "traceback": [
      "\u001b[0;31m---------------------------------------------------------------------------\u001b[0m",
      "\u001b[0;31mModuleNotFoundError\u001b[0m                       Traceback (most recent call last)",
      "Cell \u001b[0;32mIn[3], line 9\u001b[0m\n\u001b[1;32m      7\u001b[0m \u001b[38;5;28;01mimport\u001b[39;00m \u001b[38;5;21;01mmatplotlib\u001b[39;00m\u001b[38;5;21;01m.\u001b[39;00m\u001b[38;5;21;01mpyplot\u001b[39;00m \u001b[38;5;28;01mas\u001b[39;00m \u001b[38;5;21;01mplt\u001b[39;00m\n\u001b[1;32m      8\u001b[0m \u001b[38;5;28;01mimport\u001b[39;00m \u001b[38;5;21;01mnumpy\u001b[39;00m\n\u001b[0;32m----> 9\u001b[0m \u001b[38;5;28;01mfrom\u001b[39;00m \u001b[38;5;21;01mplotnine\u001b[39;00m \u001b[38;5;28;01mimport\u001b[39;00m ggplot, aes, geom_violin, labs\n\u001b[1;32m     10\u001b[0m \u001b[38;5;28;01mimport\u001b[39;00m \u001b[38;5;21;01mplotly\u001b[39;00m\u001b[38;5;21;01m.\u001b[39;00m\u001b[38;5;21;01mexpress\u001b[39;00m \u001b[38;5;28;01mas\u001b[39;00m \u001b[38;5;21;01mpx\u001b[39;00m\n\u001b[1;32m     13\u001b[0m data \u001b[38;5;241m=\u001b[39m pd\u001b[38;5;241m.\u001b[39mread_csv(\u001b[38;5;124m\"\u001b[39m\u001b[38;5;124mgap.tsv\u001b[39m\u001b[38;5;124m\"\u001b[39m, sep\u001b[38;5;241m=\u001b[39m\u001b[38;5;124m'\u001b[39m\u001b[38;5;130;01m\\t\u001b[39;00m\u001b[38;5;124m'\u001b[39m)\n",
      "\u001b[0;31mModuleNotFoundError\u001b[0m: No module named 'plotnine'"
     ]
    }
   ],
   "source": [
    "# Project 3\n",
    "# Joed Quaye\n",
    "# Ronald Chomnou\n",
    "# Griffin Araujo\n",
    "\n",
    "import pandas as pd\n",
    "import matplotlib.pyplot as plt\n",
    "import numpy\n",
    "from plotnine import ggplot, aes, geom_violin, labs\n",
    "import plotly.express as px\n",
    "\n",
    "\n",
    "data = pd.read_csv(\"gap.tsv\", sep='\\t')\n",
    "\n",
    "data.head()\n",
    "\n",
    "# **Exercise 1**: *Make a scatter plot of life expectancy across time.*\n",
    "\n",
    "%matplotlib inline\n",
    "plt.plot(data['year'], data['lifeExp'], \"^\")\n",
    "\n",
    "# ggplot is depracated so using plotly\n",
    "data = pd.read_csv(\"gap.tsv\", sep='\\t')\n",
    "\n",
    "# creating the violin plot using Plotly Express\n",
    "fig = px.violin(data, x='year', y='lifeExp', title=\"Life expectancy over time\",\n",
    "                labels={\"year\": \"Year\", \"lifeExp\": \"Life Expectancy\"})\n",
    "fig.show()\n"
   ]
  },
  {
   "cell_type": "code",
   "execution_count": null,
   "metadata": {},
   "outputs": [],
   "source": [
    "# **Question 2**: How would you describe the distribution of life expectancy across countries \n",
    "# for individual years? Is it skewed, or not? Unimodal or not? Symmetric around it’s center?\n",
    "\n",
    "# During the the earlier years such as years 1952-1982, it is skewed towards the bottom. This means the life expectancy is \n",
    "# lower during these years in most countries.\n",
    "\n",
    "# Question 3\n",
    "\n",
    "\n",
    "# Question 4\n",
    "\n",
    "\n",
    "# Question 5\n",
    "\n"
   ]
  },
  {
   "cell_type": "code",
   "execution_count": null,
   "metadata": {},
   "outputs": [],
   "source": [
    "# Exercise 2\n",
    "\n",
    "import numpy as np\n",
    "from sklearn import linear_model\n",
    "import statsmodels.api as sm\n",
    "\n",
    "\n",
    "reg = linear_model.LinearRegression()\n",
    "e2_X = [[x] for x in data['year'].values]\n",
    "e2_Y = [[y] for y in data['lifeExp'].values]\n",
    "regfit = reg.fit(e2_X, e2_Y)\n",
    "\n",
    "X = data['year']  # Independent variable (year)\n",
    "y = data['lifeExp']  # Dependent variable (life expectancy)\n",
    "\n",
    "X = sm.add_constant(X)\n",
    "\n",
    "# fitting the linear regression model\n",
    "model = sm.OLS(y, X).fit()\n",
    "\n",
    "# Getting the summary statistics\n",
    "print(model.summary())"
   ]
  },
  {
   "cell_type": "code",
   "execution_count": null,
   "metadata": {},
   "outputs": [],
   "source": [
    "# Question 6\n",
    "\n",
    "# On average, life expectancy increases by about .3259 years every year\n",
    "\n",
    "# Question 7 (MIGHT NEED TO CHECK THIS)\n",
    "\n",
    "# The null hypothesis of no relationship between year and life expectancy is indeed rejected because of the p value. \n",
    "# With each passing year, life expectancy changes. "
   ]
  },
  {
   "cell_type": "code",
   "execution_count": null,
   "metadata": {},
   "outputs": [],
   "source": [
    "# Exercise 3\n",
    "\n",
    "pref_life = []\n",
    "for x in data['year'].values:\n",
    "    # print(regfit.predict(x)[0][0])\n",
    "    # reshaping the input to a 2D array\n",
    "    x_reshaped = np.array(x).reshape(-1, 1)\n",
    "    \n",
    "    # Predict life expectancy and append to the list\n",
    "    pref_life.append(regfit.predict(x_reshaped)[0][0])\n",
    "\n",
    "data['pred_lifeExp'] = pd.Series(pref_life, index=data.index)\n",
    "data['residual'] = data['lifeExp'] - data['pred_lifeExp']\n",
    "\n",
    "\n",
    "plt.figure(figsize=(10, 6))\n",
    "plt.violinplot(data['residual'], showmeans=True)\n",
    "plt.title('Violin Plot of Residuals')\n",
    "plt.xlabel('Year')\n",
    "plt.ylabel('Residuals')\n",
    "plt.show()"
   ]
  },
  {
   "cell_type": "code",
   "execution_count": null,
   "metadata": {},
   "outputs": [],
   "source": [
    "# Exercise 4\n",
    "plt.figure(figsize=(10, 6))\n",
    "plt.xticks(rotation=45)\n",
    "plt.title('Boxplot of Residuals by Continent')\n",
    "plt.xlabel('Continent')\n",
    "plt.ylabel('Residuals')\n",
    "plt.boxplot([data[data['continent'] == c]['residual'] for c in data['continent'].unique()], labels=data['continent'].unique())\n",
    "plt.show()"
   ]
  },
  {
   "cell_type": "code",
   "execution_count": null,
   "metadata": {},
   "outputs": [],
   "source": [
    "#Question 9 Yes there's a dependence between model residual and continent because the distribution of residuals varies  across different continents\n",
    "#It suggests that there may be other effect that impact the of time (or other independent variables) on life expectancy differs across continents. \n",
    "#It Suggest that there may be additional factors specific to each continent that are influencing life expectancy beyond what is captured by \n",
    "#the current regression model. So we have to employ more sophisticated modeling techniques to better capture the nuances of the relationship between \n",
    "#residual and continent."
   ]
  },
  {
   "cell_type": "code",
   "execution_count": null,
   "metadata": {},
   "outputs": [],
   "source": [
    "from plotnine import ggplot, aes, geom_point, geom_line, theme_bw, stat_smooth, scale_color_manual\n",
    "\n",
    "color_palette = [\"#1f77b4\", \"#ff7f0e\", \"#2ca02c\", \"#d62728\", \"#9467bd\"]\n",
    "\n",
    "(ggplot(data=data) +\n",
    " aes(x='year', y='lifeExp', color='continent') +\n",
    " stat_smooth(method=\"lm\", se=True, span=0.2) +\n",
    " geom_point(size=1) + \n",
    " scale_color_manual(values=color_palette) + \n",
    " theme_bw())"
   ]
  },
  {
   "cell_type": "code",
   "execution_count": null,
   "metadata": {},
   "outputs": [],
   "source": [
    "# Question 10 Given the uniform increase in life expectancy observed across all continents over time \n",
    "# and the absence of notable disparities in trends between them, there's not much of a reason  for including \n",
    "# an interaction term for continent and year in the regression model. Opting for a simpler model without this \n",
    "# interaction term offers easier interpretation especially if the dataset is not notably large."
   ]
  },
  {
   "cell_type": "code",
   "execution_count": null,
   "metadata": {},
   "outputs": [],
   "source": [
    "import statsmodels.api as sm\n",
    "\n",
    "# Fit a linear regression model with an interaction term for continent and year\n",
    "model = sm.OLS.from_formula('lifeExp ~ year + continent + year:continent', data=data).fit()\n",
    "\n",
    "# Print the summary of the regression model\n",
    "print(model.summary())"
   ]
  },
  {
   "cell_type": "code",
   "execution_count": null,
   "metadata": {},
   "outputs": [],
   "source": [
    "pip install scikit-learn"
   ]
  },
  {
   "cell_type": "code",
   "execution_count": null,
   "metadata": {},
   "outputs": [],
   "source": [
    "# Exercise 6\n",
    "import statsmodels.api as sm\n",
    "\n",
    "# Fit a linear regression model with an interaction term for continent and year\n",
    "model = sm.OLS.from_formula('lifeExp ~ year + continent + year:continent', data=data).fit()\n",
    "\n",
    "# Print the summary of the regression model\n",
    "print(model.summary())\n",
    "\n",
    "#Question 11\n",
    "# Not all of the parameters in the model are significantly differently from zero.\n",
    "# Asia, the Americas, and Europe are significantly different from zero because their\n",
    "# p-values(P>|t|) are less than zero\n",
    "# Oceania is not significantly different from zero because the p-values(P>|t|) is bigger than zero\n",
    "\n",
    "# Question 12\n",
    "# Extract coefficient estimates for 'year' and its interactions with each continent\n",
    "year_coef = model.params['year']\n",
    "interactions_coef = {name: model.params[name] for name in model.params.index if 'year:C' in name}\n",
    "\n",
    "# Calculate the average increase in life expectancy each year for each continent\n",
    "average_increase = {}\n",
    "for continent, interaction_coef in interactions_coef.items():\n",
    "    average_increase[continent.split(\"[T.\")[-1][:-1]] = year_coef + interaction_coef\n",
    "\n",
    "# Print the results\n",
    "for continent, increase in average_increase.items():\n",
    "    print(f\"On average, life expectancy increases by {increase:.2f} years each year in {continent}.\")\n",
    "\n"
   ]
  },
  {
   "cell_type": "code",
   "execution_count": null,
   "metadata": {},
   "outputs": [],
   "source": [
    "# Exercise 7\n",
    "## Ftest for Exercise 2\n",
    "model2 = sm.OLS.from_formula(formula='lifeExp ~ year', data=data).fit()\n",
    "table2 = sm.stats.anova_lm(model2, typ=2)\n",
    "print(\"Exercise 2\")\n",
    "print(table2)\n",
    "## Ftest for Exercise 6\n",
    "table = sm.stats.anova_lm(model, typ=2)\n",
    "print(\"Exercise 6\")\n",
    "print(table)\n",
    "\n",
    "# Question 13  Is the interaction model significantly better than the year-only model? Why?\n",
    "# Yes, the interaction model is significantly better than the year-only model.\n",
    "# It is significantly better because of the associated p-values. The p-value is 6.463379e-14 as seen\n",
    "# in the table which is much less than 0.05."
   ]
  },
  {
   "cell_type": "code",
   "execution_count": null,
   "metadata": {},
   "outputs": [],
   "source": [
    "# Exercise 8\n",
    "import matplotlib.pyplot as plt\n",
    "\n",
    "residuals = model.resid\n",
    "\n",
    "# Create a violin plot of residuals vs. year\n",
    "fig = px.violin(x=data['year'], y=residuals, box=True, points=\"all\")\n",
    "fig.update_traces(meanline_visible=True)\n",
    "fig.update_layout(\n",
    "    title='Residuals vs. Year (Interaction Model)',\n",
    "    xaxis_title='Year',\n",
    "    yaxis_title='Residuals'\n",
    ")\n",
    "fig.show()\n",
    "#Spread of residuals appears mostly consistent meaning constant variance except for the few outliers\n",
    "# on each end\n",
    "\n",
    "# Create a residuals vs. fitted values plot\n",
    "plt.figure(figsize=(10, 6))\n",
    "plt.scatter(model.fittedvalues, residuals, alpha=0.5)\n",
    "plt.xlabel('Fitted Values')\n",
    "plt.ylabel('Residuals')\n",
    "plt.title('Residuals vs. Fitted Values (Interaction Model)')\n",
    "plt.axhline(y=0, color='r', linestyle='--')\n",
    "plt.show()\n",
    "#There doesn't seem to be obvious patterns visible\n",
    "# Even spread of points at y = 0 though meaning constant variance\n",
    "\n"
   ]
  }
 ],
 "metadata": {
  "kernelspec": {
   "display_name": "Python 3 (ipykernel)",
   "language": "python",
   "name": "python3"
  },
  "language_info": {
   "codemirror_mode": {
    "name": "ipython",
    "version": 3
   },
   "file_extension": ".py",
   "mimetype": "text/x-python",
   "name": "python",
   "nbconvert_exporter": "python",
   "pygments_lexer": "ipython3",
   "version": "3.11.6"
  }
 },
 "nbformat": 4,
 "nbformat_minor": 4
}
