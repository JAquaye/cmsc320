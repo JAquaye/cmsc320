{
 "cells": [
  {
   "cell_type": "code",
   "execution_count": 206,
   "metadata": {},
   "outputs": [],
   "source": [
    "# impoting all the necessary libraries\n",
    "from selenium import webdriver\n",
    "from selenium.webdriver.common.keys import Keys\n",
    "from selenium.webdriver.common.by import By\n",
    "from selenium.webdriver.support.wait import WebDriverWait\n",
    "from selenium.webdriver.support import expected_conditions as EC\n",
    "from urllib.request import urlopen\n",
    "from urllib.error import HTTPError\n",
    "from bs4 import BeautifulSoup\n",
    "import requests\n",
    "import numpy as np\n"
   ]
  },
  {
   "cell_type": "code",
   "execution_count": 209,
   "metadata": {},
   "outputs": [
    {
     "name": "stdout",
     "output_type": "stream",
     "text": [
      "These are all the languages:  Python, Java, JavaScript, C/C++, C#, R, PHP, TypeScript, Swift, Objective-C, Rust, Go, Kotlin, Matlab, Ada, Dart, Ruby, Powershell, VBA, Lua, Scala, Abap, Julia, Visual Basic, Perl, Groovy, Haskell, Cobol, Delphi/Pascal\n",
      "These are the top five languages (name & percentage share):  ('Python', '28.11%') ('Java', '15.52%') ('JavaScript', '8.57%') ('C/C++', '6.92%') ('C#', '6.73%')\n",
      "This is the median share value of all the languages:  1.08%\n",
      "Top three most popular programming languages in the last year (name & change value):  ('R', '0.7%') ('Python', '0.6%') ('Swift', '0.5%')\n"
     ]
    }
   ],
   "source": [
    "# creating the web driver\n",
    "from functools import reduce\n",
    "\n",
    "driver = webdriver.Safari()\n",
    "raw = driver.get(\"https://pypl.github.io/PYPL.html\")\n",
    "html = driver.page_source\n",
    "# finding the table by its XPath\n",
    "table = driver.find_element(\"xpath\", \"//table\")\n",
    "# will store all important data for future reference\n",
    "data = []\n",
    "# extracting data from the table rows and columns\n",
    "rows = table.find_elements(\"tag name\", \"tr\")\n",
    "for row in rows:\n",
    "    # for every row, find the elements associated with arugments\n",
    "    columns = row.find_elements(\"tag name\", \"td\")\n",
    "    # if it is a valid column\n",
    "    if len(columns) >= 3:\n",
    "        # grabbing language\n",
    "        language = columns[2].text\n",
    "        # grabbing share value\n",
    "        share_val = float(columns[3].text.replace('%', ''))\n",
    "        # grabbing one-year trend\n",
    "        trend = float(columns[4].text.replace('%', ''))\n",
    "        # storing all in a tuple for future reference\n",
    "        new_tup = (language, trend, share_val)\n",
    "        data.append(new_tup)\n",
    "driver.quit()\n",
    "# getting the first five elements for top five popular languages \n",
    "top_five = reduce((lambda acc, x: (acc[0] + 1, acc[1] + [x]) if acc[0] < 5 else acc), [(x[0], x[2]) for x in data], (0, []))\n",
    "# sorting the data and storing in descending order\n",
    "sorted_data = sorted(data, key=(lambda x : x[1]), reverse = True)\n",
    "# getting first three elements in new sorted list for top three trending \n",
    "trends = reduce((lambda acc, x: (acc[0] + 1, acc[1] + [x]) if acc[0] < 3 else acc), sorted_data, (0, []))\n",
    "\n",
    "# printing the obtained data\n",
    "print(\"These are all the languages: \", \", \".join([x[0] for x in data]))\n",
    "print(\"These are the top five languages (name & percentage share): \", *[(x[0], str(x[1]) + \"%\") for x in top_five[1]])\n",
    "print(\"This is the median share value of all the languages: \", str(np.median([x[2] for x in data])) + \"%\")\n",
    "print(\"Top three most popular programming languages in the last year (name & change value): \", *[(x[0], str(x[1]) + \"%\") for x in trends[1]])\n"
   ]
  }
 ],
 "metadata": {
  "kernelspec": {
   "display_name": "Python 3",
   "language": "python",
   "name": "python3"
  },
  "language_info": {
   "codemirror_mode": {
    "name": "ipython",
    "version": 3
   },
   "file_extension": ".py",
   "mimetype": "text/x-python",
   "name": "python",
   "nbconvert_exporter": "python",
   "pygments_lexer": "ipython3",
   "version": "3.9.6"
  }
 },
 "nbformat": 4,
 "nbformat_minor": 2
}
