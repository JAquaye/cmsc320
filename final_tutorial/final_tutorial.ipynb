{
 "cells": [
  {
   "cell_type": "code",
   "execution_count": null,
   "metadata": {},
   "outputs": [],
   "source": []
  },
  {
   "attachments": {},
   "cell_type": "markdown",
   "metadata": {},
   "source": [
    "Analyze previous 7 years of data to view the difference between expected and actual winners of the Most Improved Player award in the NBA.  Then use such data to predict the winner of the MIP award for the following 2024-2025 NBA Season."
   ]
  },
  {
   "attachments": {},
   "cell_type": "markdown",
   "metadata": {},
   "source": [
    "Review a variety of stats such a Plus/minus, points, assists, blocks, steals, fouls, offensive and defensive rating, rebounds and qualifiers such as conference, division."
   ]
  },
  {
   "cell_type": "markdown",
   "metadata": {},
   "source": []
  }
 ],
 "metadata": {
  "language_info": {
   "name": "python"
  }
 },
 "nbformat": 4,
 "nbformat_minor": 2
}
