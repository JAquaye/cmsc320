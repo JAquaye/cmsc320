{
 "cells": [
  {
   "cell_type": "code",
   "execution_count": null,
   "metadata": {},
   "outputs": [],
   "source": [
    "'''\n",
    "CMSC320 students will turn in a tutorial that will walk users through the entire data science pipeline: \n",
    "data curation, parsing, and management; exploratory data analysis; hypothesis testing and machine learning\n",
    "to provide analysis; and then the curation of a message or messages covering insights learned during the\n",
    "tutorial. Students may choose an application area and dataset(s) that are of interest to them; please feel\n",
    "free to be creative about this! (For some ideas and possible data sources, see the slides from the first\n",
    "lecture.) The tutorial should be self-contained, a mix of Markdown prose and Python code, and delivered\n",
    "as a GitHub statically-hosted Page (described below)\n",
    "\n",
    "'''"
   ]
  }
 ],
 "metadata": {
  "language_info": {
   "name": "python"
  }
 },
 "nbformat": 4,
 "nbformat_minor": 2
}
